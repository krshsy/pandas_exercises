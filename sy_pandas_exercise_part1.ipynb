{
 "metadata": {
  "name": "sy_pandas_exercise_part1",
  "signature": "sha256:a420fb2646609450d4217e52ae73fe66d7acc2b421fb61619074085db9452662"
 },
 "nbformat": 3,
 "nbformat_minor": 0,
 "worksheets": [
  {
   "cells": [
    {
     "cell_type": "heading",
     "level": 1,
     "metadata": {},
     "source": "pandas Data Structures"
    },
    {
     "cell_type": "markdown",
     "metadata": {},
     "source": "pandas is the main course really (numpy was the appetizer to prepare you for the main event).  pandas contains high-level data structures and manipulation tools designed to make data analysis fast and easy in Python.  pandas is built on top of NumPy and makes it easy to use in NumPy-centric applications."
    },
    {
     "cell_type": "markdown",
     "metadata": {},
     "source": "The motivating factors for developing pandas are the following:\n\n1.  Data structures with labeled axes supporting automatic or explicit data alignment: to prevent common errors resulting from misaligned data and working with differently-indexed data coming from different sources.\n\n2.  Integrated time series functionality.\n\n3.  The same data structures handle both time series data and non-time series data.\n\n4.  Arithmetic operations and reductions (like summing across an axis) would pass on the metadata (axis labels).\n\n5.  Flexible handling of missing data.\n\n6.  Merge and other relational operations found in popular database  languages (SQL, for example).\n\nThe driving force: to be able to do all of the tasks mentioned above in one place that has an integrated set of data structures and tools.  "
    },
    {
     "cell_type": "markdown",
     "metadata": {},
     "source": "This is the import conventions for pandas.  Make sure to type this before making use of the pandas libaries (or else you won't be able to use its features!)"
    },
    {
     "cell_type": "code",
     "collapsed": false,
     "input": "from pandas import Series, DataFrame",
     "language": "python",
     "metadata": {},
     "outputs": [],
     "prompt_number": 86
    },
    {
     "cell_type": "code",
     "collapsed": false,
     "input": "import pandas as pd",
     "language": "python",
     "metadata": {},
     "outputs": [],
     "prompt_number": 87
    },
    {
     "cell_type": "code",
     "collapsed": false,
     "input": "import numpy as np",
     "language": "python",
     "metadata": {},
     "outputs": [],
     "prompt_number": 88
    },
    {
     "cell_type": "markdown",
     "metadata": {},
     "source": "pd. refers to pandas.  Series and DataFrame are used so often that it is easier to import them into the local namespace."
    },
    {
     "cell_type": "markdown",
     "metadata": {},
     "source": "The two workhorse data structures: Series and DataFrame provide a solid, easy-to-use functionality for most applications."
    },
    {
     "cell_type": "heading",
     "level": 3,
     "metadata": {},
     "source": "Series"
    },
    {
     "cell_type": "markdown",
     "metadata": {},
     "source": "A series is a one-dimensional array-like object containing an array of data (of any NumPy data type) and an associated array of data labels called its index.  "
    },
    {
     "cell_type": "code",
     "collapsed": false,
     "input": "obj = Series([4, 7, -5, 3])",
     "language": "python",
     "metadata": {},
     "outputs": [],
     "prompt_number": 89
    },
    {
     "cell_type": "code",
     "collapsed": false,
     "input": "obj",
     "language": "python",
     "metadata": {},
     "outputs": [
      {
       "metadata": {},
       "output_type": "pyout",
       "prompt_number": 90,
       "text": "0    4\n1    7\n2   -5\n3    3\ndtype: int64"
      }
     ],
     "prompt_number": 90
    },
    {
     "cell_type": "markdown",
     "metadata": {},
     "source": "\\1.  Get the array array representation and index object of the Series (Hint: use its values and index attributes)."
    },
    {
     "cell_type": "code",
     "collapsed": false,
     "input": "obj.values",
     "language": "python",
     "metadata": {},
     "outputs": [
      {
       "metadata": {},
       "output_type": "pyout",
       "prompt_number": 91,
       "text": "array([ 4,  7, -5,  3])"
      }
     ],
     "prompt_number": 91
    },
    {
     "cell_type": "code",
     "collapsed": false,
     "input": "obj.index",
     "language": "python",
     "metadata": {},
     "outputs": [
      {
       "metadata": {},
       "output_type": "pyout",
       "prompt_number": 92,
       "text": "Int64Index([0, 1, 2, 3], dtype='int64')"
      }
     ],
     "prompt_number": 92
    },
    {
     "cell_type": "markdown",
     "metadata": {},
     "source": "\\2.  It is possible to create a series with an index identifying each data point.  Create a series obj2 such that the output below is observed."
    },
    {
     "cell_type": "code",
     "collapsed": false,
     "input": "obj2",
     "language": "python",
     "metadata": {},
     "outputs": [
      {
       "metadata": {},
       "output_type": "pyout",
       "prompt_number": 93,
       "text": "e     4\nb     6\na     5\nb   -11\ndtype: int64"
      }
     ],
     "prompt_number": 93
    },
    {
     "cell_type": "code",
     "collapsed": false,
     "input": "obj2 = Series([4,6,5,-11],['e','b','a','b'])\nobj2",
     "language": "python",
     "metadata": {},
     "outputs": [
      {
       "metadata": {},
       "output_type": "pyout",
       "prompt_number": 94,
       "text": "e     4\nb     6\na     5\nb   -11\ndtype: int64"
      }
     ],
     "prompt_number": 94
    },
    {
     "cell_type": "markdown",
     "metadata": {},
     "source": "Compared with a regular NumPy array, you can use values in the index when selecting single values or a set of values."
    },
    {
     "cell_type": "markdown",
     "metadata": {},
     "source": "NumPy array operations, such as filtering with a boolean array, scalar multiplication or applying math functions, will preserve the index value link."
    },
    {
     "cell_type": "code",
     "collapsed": false,
     "input": "obj[obj> 0]",
     "language": "python",
     "metadata": {},
     "outputs": [
      {
       "metadata": {},
       "output_type": "pyout",
       "prompt_number": 95,
       "text": "0    4\n1    7\n3    3\ndtype: int64"
      }
     ],
     "prompt_number": 95
    },
    {
     "cell_type": "markdown",
     "metadata": {},
     "source": "Another way to think about a Series is as a fixed-length, ordered dict, as it is a mapping of index values to data values.  It can be substituted into many functions that expect a dict."
    },
    {
     "cell_type": "markdown",
     "metadata": {},
     "source": "\\3.  You can create a Series from data contained in a Python dict by passing the dictionary to the Series.  Create a series, obj3,  from the Python dictionary below"
    },
    {
     "cell_type": "code",
     "collapsed": false,
     "input": "cdata = {'Ohio': 3500, 'Texas': 7100, 'Oregon':1600, 'Utah':5000}",
     "language": "python",
     "metadata": {},
     "outputs": [],
     "prompt_number": 96
    },
    {
     "cell_type": "code",
     "collapsed": false,
     "input": "obj3 = Series(cdata)",
     "language": "python",
     "metadata": {},
     "outputs": [],
     "prompt_number": 97
    },
    {
     "cell_type": "code",
     "collapsed": false,
     "input": "obj3",
     "language": "python",
     "metadata": {},
     "outputs": [
      {
       "metadata": {},
       "output_type": "pyout",
       "prompt_number": 98,
       "text": "Ohio      3500\nOregon    1600\nTexas     7100\nUtah      5000\ndtype: int64"
      }
     ],
     "prompt_number": 98
    },
    {
     "cell_type": "markdown",
     "metadata": {},
     "source": "Now, let's specify our index."
    },
    {
     "cell_type": "code",
     "collapsed": false,
     "input": "states = ['California', 'Ohio', 'Oregon', 'Texas']",
     "language": "python",
     "metadata": {},
     "outputs": [],
     "prompt_number": 99
    },
    {
     "cell_type": "markdown",
     "metadata": {},
     "source": "\\4. Create a series, obj 4, making use of the list states as the value of the index argument when passed to Series.  Since California does not have a corresponding value in the original cdata, what is indicated instead?"
    },
    {
     "cell_type": "markdown",
     "metadata": {},
     "source": "It is indicated as NaN or not a number."
    },
    {
     "cell_type": "code",
     "collapsed": false,
     "input": "obj4 = Series(cdata,states)",
     "language": "python",
     "metadata": {},
     "outputs": [],
     "prompt_number": 100
    },
    {
     "cell_type": "code",
     "collapsed": false,
     "input": "obj4",
     "language": "python",
     "metadata": {},
     "outputs": [
      {
       "metadata": {},
       "output_type": "pyout",
       "prompt_number": 101,
       "text": "California     NaN\nOhio          3500\nOregon        1600\nTexas         7100\ndtype: float64"
      }
     ],
     "prompt_number": 101
    },
    {
     "cell_type": "markdown",
     "metadata": {},
     "source": "\\5.  How do you use the isnull and notnull functions in pandas to detect missing data in obj4:"
    },
    {
     "cell_type": "code",
     "collapsed": false,
     "input": "pd.isnull(obj4)",
     "language": "python",
     "metadata": {},
     "outputs": [
      {
       "metadata": {},
       "output_type": "pyout",
       "prompt_number": 102,
       "text": "California     True\nOhio          False\nOregon        False\nTexas         False\ndtype: bool"
      }
     ],
     "prompt_number": 102
    },
    {
     "cell_type": "code",
     "collapsed": false,
     "input": "pd.notnull(obj4)",
     "language": "python",
     "metadata": {},
     "outputs": [
      {
       "metadata": {},
       "output_type": "pyout",
       "prompt_number": 103,
       "text": "California    False\nOhio           True\nOregon         True\nTexas          True\ndtype: bool"
      }
     ],
     "prompt_number": 103
    },
    {
     "cell_type": "markdown",
     "metadata": {},
     "source": "\\6.  A critical Series feature for many applications is that it automatically aligns differently-indexed data in arithmetic operations.  Align obj3 and obj4."
    },
    {
     "cell_type": "code",
     "collapsed": false,
     "input": "obj3",
     "language": "python",
     "metadata": {},
     "outputs": [
      {
       "metadata": {},
       "output_type": "pyout",
       "prompt_number": 104,
       "text": "Ohio      3500\nOregon    1600\nTexas     7100\nUtah      5000\ndtype: int64"
      }
     ],
     "prompt_number": 104
    },
    {
     "cell_type": "code",
     "collapsed": false,
     "input": "obj4",
     "language": "python",
     "metadata": {},
     "outputs": [
      {
       "metadata": {},
       "output_type": "pyout",
       "prompt_number": 105,
       "text": "California     NaN\nOhio          3500\nOregon        1600\nTexas         7100\ndtype: float64"
      }
     ],
     "prompt_number": 105
    },
    {
     "cell_type": "code",
     "collapsed": false,
     "input": "obj3 + obj4",
     "language": "python",
     "metadata": {},
     "outputs": [
      {
       "metadata": {},
       "output_type": "pyout",
       "prompt_number": 106,
       "text": "California      NaN\nOhio           7000\nOregon         3200\nTexas         14200\nUtah            NaN\ndtype: float64"
      }
     ],
     "prompt_number": 106
    },
    {
     "cell_type": "markdown",
     "metadata": {},
     "source": "\\7.  Both the Series object itself and its index have a name attribute, which integrates with other key areas of pandas functionality.  Assign the name 'population' to obj4 and its index name 'state', such that:"
    },
    {
     "cell_type": "code",
     "collapsed": false,
     "input": "obj4.name = 'population'",
     "language": "python",
     "metadata": {},
     "outputs": [],
     "prompt_number": 107
    },
    {
     "cell_type": "code",
     "collapsed": false,
     "input": "obj4.index.name = 'state'",
     "language": "python",
     "metadata": {},
     "outputs": [],
     "prompt_number": 108
    },
    {
     "cell_type": "code",
     "collapsed": false,
     "input": "obj4",
     "language": "python",
     "metadata": {},
     "outputs": [
      {
       "metadata": {},
       "output_type": "pyout",
       "prompt_number": 109,
       "text": "state\nCalifornia     NaN\nOhio          3500\nOregon        1600\nTexas         7100\nName: population, dtype: float64"
      }
     ],
     "prompt_number": 109
    },
    {
     "cell_type": "heading",
     "level": 3,
     "metadata": {},
     "source": "DataFrame"
    },
    {
     "cell_type": "markdown",
     "metadata": {},
     "source": "A DataFrame represents a tabular, spreadsheet-like data structure containing an ordered collection of columns, each of which can be a different value type (numeric, string, boolean, etc.).\n\nThe DataFrame has both a row and column index (it can be taught of as a dict of Series).  Row-oriented and column-oriented operations in DataFrame are treated roughly symmetrically.  Under the hood, the data is stored as one or more two-dimensional blocks rather than a list, dict, or some other collection of one-dimensional arrays."
    },
    {
     "cell_type": "markdown",
     "metadata": {},
     "source": "\\8.  The most common way of constructing a DataFrame is to form a dict of equal-length lists or NumPy arrays.  Convert the data below to a pandas' DataFrame and call the pandas object, 'frame'such that:"
    },
    {
     "cell_type": "code",
     "collapsed": false,
     "input": "data = {'state': ['Ohio', 'Ohio', 'Ohio', 'Nevada', 'Nevada'],\n        'year': [2000, 2001, 2002, 2001, 2002],\n        'pop': [1.5, 1.7, 3.6, 2.4, 2.9]}",
     "language": "python",
     "metadata": {},
     "outputs": [],
     "prompt_number": 110
    },
    {
     "cell_type": "code",
     "collapsed": false,
     "input": "frame = DataFrame(data)",
     "language": "python",
     "metadata": {},
     "outputs": [],
     "prompt_number": 111
    },
    {
     "cell_type": "code",
     "collapsed": false,
     "input": "frame",
     "language": "python",
     "metadata": {},
     "outputs": [
      {
       "html": "<div style=\"max-height:1000px;max-width:1500px;overflow:auto;\">\n<table border=\"1\" class=\"dataframe\">\n  <thead>\n    <tr style=\"text-align: right;\">\n      <th></th>\n      <th>pop</th>\n      <th>state</th>\n      <th>year</th>\n    </tr>\n  </thead>\n  <tbody>\n    <tr>\n      <th>0</th>\n      <td> 1.5</td>\n      <td>   Ohio</td>\n      <td> 2000</td>\n    </tr>\n    <tr>\n      <th>1</th>\n      <td> 1.7</td>\n      <td>   Ohio</td>\n      <td> 2001</td>\n    </tr>\n    <tr>\n      <th>2</th>\n      <td> 3.6</td>\n      <td>   Ohio</td>\n      <td> 2002</td>\n    </tr>\n    <tr>\n      <th>3</th>\n      <td> 2.4</td>\n      <td> Nevada</td>\n      <td> 2001</td>\n    </tr>\n    <tr>\n      <th>4</th>\n      <td> 2.9</td>\n      <td> Nevada</td>\n      <td> 2002</td>\n    </tr>\n  </tbody>\n</table>\n<p>5 rows \u00d7 3 columns</p>\n</div>",
       "metadata": {},
       "output_type": "pyout",
       "prompt_number": 112,
       "text": "   pop   state  year\n0  1.5    Ohio  2000\n1  1.7    Ohio  2001\n2  3.6    Ohio  2002\n3  2.4  Nevada  2001\n4  2.9  Nevada  2002\n\n[5 rows x 3 columns]"
      }
     ],
     "prompt_number": 112
    },
    {
     "cell_type": "markdown",
     "metadata": {},
     "source": "\\9.  You can specify a sequence of columns by passing the columns argument to DataFrame when converting.  Try to arrange the sequence of columns to be 'year', 'state', 'pop', such that the table below is observed:"
    },
    {
     "cell_type": "code",
     "collapsed": false,
     "input": "DataFrame(data, columns=['year','state','pop'])",
     "language": "python",
     "metadata": {},
     "outputs": [
      {
       "html": "<div style=\"max-height:1000px;max-width:1500px;overflow:auto;\">\n<table border=\"1\" class=\"dataframe\">\n  <thead>\n    <tr style=\"text-align: right;\">\n      <th></th>\n      <th>year</th>\n      <th>state</th>\n      <th>pop</th>\n    </tr>\n  </thead>\n  <tbody>\n    <tr>\n      <th>0</th>\n      <td> 2000</td>\n      <td>   Ohio</td>\n      <td> 1.5</td>\n    </tr>\n    <tr>\n      <th>1</th>\n      <td> 2001</td>\n      <td>   Ohio</td>\n      <td> 1.7</td>\n    </tr>\n    <tr>\n      <th>2</th>\n      <td> 2002</td>\n      <td>   Ohio</td>\n      <td> 3.6</td>\n    </tr>\n    <tr>\n      <th>3</th>\n      <td> 2001</td>\n      <td> Nevada</td>\n      <td> 2.4</td>\n    </tr>\n    <tr>\n      <th>4</th>\n      <td> 2002</td>\n      <td> Nevada</td>\n      <td> 2.9</td>\n    </tr>\n  </tbody>\n</table>\n<p>5 rows \u00d7 3 columns</p>\n</div>",
       "metadata": {},
       "output_type": "pyout",
       "prompt_number": 113,
       "text": "   year   state  pop\n0  2000    Ohio  1.5\n1  2001    Ohio  1.7\n2  2002    Ohio  3.6\n3  2001  Nevada  2.4\n4  2002  Nevada  2.9\n\n[5 rows x 3 columns]"
      }
     ],
     "prompt_number": 113
    },
    {
     "cell_type": "markdown",
     "metadata": {},
     "source": "\\10.  Add another column and call it 'debt'.  Since this column is not contained in data, it will appear with NA values in the result.  Using the index argument in DataFrame, name each row: 'one', 'two', ... , 'five'.  Call this particular DataFrame object, frame2, such that when called, the following table is observed:"
    },
    {
     "cell_type": "code",
     "collapsed": false,
     "input": "frame2 = DataFrame(data, columns=['year','state','pop','debt'], index=['one','two','three','four','five'])",
     "language": "python",
     "metadata": {},
     "outputs": [],
     "prompt_number": 114
    },
    {
     "cell_type": "code",
     "collapsed": false,
     "input": "frame2",
     "language": "python",
     "metadata": {},
     "outputs": [
      {
       "html": "<div style=\"max-height:1000px;max-width:1500px;overflow:auto;\">\n<table border=\"1\" class=\"dataframe\">\n  <thead>\n    <tr style=\"text-align: right;\">\n      <th></th>\n      <th>year</th>\n      <th>state</th>\n      <th>pop</th>\n      <th>debt</th>\n    </tr>\n  </thead>\n  <tbody>\n    <tr>\n      <th>one</th>\n      <td> 2000</td>\n      <td>   Ohio</td>\n      <td> 1.5</td>\n      <td> NaN</td>\n    </tr>\n    <tr>\n      <th>two</th>\n      <td> 2001</td>\n      <td>   Ohio</td>\n      <td> 1.7</td>\n      <td> NaN</td>\n    </tr>\n    <tr>\n      <th>three</th>\n      <td> 2002</td>\n      <td>   Ohio</td>\n      <td> 3.6</td>\n      <td> NaN</td>\n    </tr>\n    <tr>\n      <th>four</th>\n      <td> 2001</td>\n      <td> Nevada</td>\n      <td> 2.4</td>\n      <td> NaN</td>\n    </tr>\n    <tr>\n      <th>five</th>\n      <td> 2002</td>\n      <td> Nevada</td>\n      <td> 2.9</td>\n      <td> NaN</td>\n    </tr>\n  </tbody>\n</table>\n<p>5 rows \u00d7 4 columns</p>\n</div>",
       "metadata": {},
       "output_type": "pyout",
       "prompt_number": 115,
       "text": "       year   state  pop debt\none    2000    Ohio  1.5  NaN\ntwo    2001    Ohio  1.7  NaN\nthree  2002    Ohio  3.6  NaN\nfour   2001  Nevada  2.4  NaN\nfive   2002  Nevada  2.9  NaN\n\n[5 rows x 4 columns]"
      }
     ],
     "prompt_number": 115
    },
    {
     "cell_type": "code",
     "collapsed": false,
     "input": "frame2.columns",
     "language": "python",
     "metadata": {},
     "outputs": [
      {
       "metadata": {},
       "output_type": "pyout",
       "prompt_number": 116,
       "text": "Index([u'year', u'state', u'pop', u'debt'], dtype='object')"
      }
     ],
     "prompt_number": 116
    },
    {
     "cell_type": "markdown",
     "metadata": {},
     "source": "A column in a DataFrame can be retrieved as a Series either by dict-like notation or by attribute:"
    },
    {
     "cell_type": "code",
     "collapsed": false,
     "input": "frame2['state']",
     "language": "python",
     "metadata": {},
     "outputs": [
      {
       "metadata": {},
       "output_type": "pyout",
       "prompt_number": 117,
       "text": "one        Ohio\ntwo        Ohio\nthree      Ohio\nfour     Nevada\nfive     Nevada\nName: state, dtype: object"
      }
     ],
     "prompt_number": 117
    },
    {
     "cell_type": "code",
     "collapsed": false,
     "input": "frame2.year",
     "language": "python",
     "metadata": {},
     "outputs": [
      {
       "metadata": {},
       "output_type": "pyout",
       "prompt_number": 118,
       "text": "one      2000\ntwo      2001\nthree    2002\nfour     2001\nfive     2002\nName: year, dtype: int64"
      }
     ],
     "prompt_number": 118
    },
    {
     "cell_type": "markdown",
     "metadata": {},
     "source": "Rows can also be retrieved by position or by calling certain methods, such as the ix indexing field."
    },
    {
     "cell_type": "code",
     "collapsed": false,
     "input": "frame2.ix['three']",
     "language": "python",
     "metadata": {},
     "outputs": [
      {
       "metadata": {},
       "output_type": "pyout",
       "prompt_number": 119,
       "text": "year     2002\nstate    Ohio\npop       3.6\ndebt      NaN\nName: three, dtype: object"
      }
     ],
     "prompt_number": 119
    },
    {
     "cell_type": "markdown",
     "metadata": {},
     "source": "Columns can be modified by assignment.  For example, the empty 'debt' column could be assigned a scalar value or an array of values."
    },
    {
     "cell_type": "code",
     "collapsed": false,
     "input": "frame2['debt'] = 16.5",
     "language": "python",
     "metadata": {},
     "outputs": [],
     "prompt_number": 120
    },
    {
     "cell_type": "code",
     "collapsed": false,
     "input": "frame2",
     "language": "python",
     "metadata": {},
     "outputs": [
      {
       "html": "<div style=\"max-height:1000px;max-width:1500px;overflow:auto;\">\n<table border=\"1\" class=\"dataframe\">\n  <thead>\n    <tr style=\"text-align: right;\">\n      <th></th>\n      <th>year</th>\n      <th>state</th>\n      <th>pop</th>\n      <th>debt</th>\n    </tr>\n  </thead>\n  <tbody>\n    <tr>\n      <th>one</th>\n      <td> 2000</td>\n      <td>   Ohio</td>\n      <td> 1.5</td>\n      <td> 16.5</td>\n    </tr>\n    <tr>\n      <th>two</th>\n      <td> 2001</td>\n      <td>   Ohio</td>\n      <td> 1.7</td>\n      <td> 16.5</td>\n    </tr>\n    <tr>\n      <th>three</th>\n      <td> 2002</td>\n      <td>   Ohio</td>\n      <td> 3.6</td>\n      <td> 16.5</td>\n    </tr>\n    <tr>\n      <th>four</th>\n      <td> 2001</td>\n      <td> Nevada</td>\n      <td> 2.4</td>\n      <td> 16.5</td>\n    </tr>\n    <tr>\n      <th>five</th>\n      <td> 2002</td>\n      <td> Nevada</td>\n      <td> 2.9</td>\n      <td> 16.5</td>\n    </tr>\n  </tbody>\n</table>\n<p>5 rows \u00d7 4 columns</p>\n</div>",
       "metadata": {},
       "output_type": "pyout",
       "prompt_number": 121,
       "text": "       year   state  pop  debt\none    2000    Ohio  1.5  16.5\ntwo    2001    Ohio  1.7  16.5\nthree  2002    Ohio  3.6  16.5\nfour   2001  Nevada  2.4  16.5\nfive   2002  Nevada  2.9  16.5\n\n[5 rows x 4 columns]"
      }
     ],
     "prompt_number": 121
    },
    {
     "cell_type": "markdown",
     "metadata": {},
     "source": "\\11.  Reassign the debt column to contain an array of values, such that the table below is observed."
    },
    {
     "cell_type": "code",
     "collapsed": false,
     "input": "frame2['debt'] = [0,1,2,3,4]",
     "language": "python",
     "metadata": {},
     "outputs": [],
     "prompt_number": 122
    },
    {
     "cell_type": "code",
     "collapsed": false,
     "input": "frame2",
     "language": "python",
     "metadata": {},
     "outputs": [
      {
       "html": "<div style=\"max-height:1000px;max-width:1500px;overflow:auto;\">\n<table border=\"1\" class=\"dataframe\">\n  <thead>\n    <tr style=\"text-align: right;\">\n      <th></th>\n      <th>year</th>\n      <th>state</th>\n      <th>pop</th>\n      <th>debt</th>\n    </tr>\n  </thead>\n  <tbody>\n    <tr>\n      <th>one</th>\n      <td> 2000</td>\n      <td>   Ohio</td>\n      <td> 1.5</td>\n      <td> 0</td>\n    </tr>\n    <tr>\n      <th>two</th>\n      <td> 2001</td>\n      <td>   Ohio</td>\n      <td> 1.7</td>\n      <td> 1</td>\n    </tr>\n    <tr>\n      <th>three</th>\n      <td> 2002</td>\n      <td>   Ohio</td>\n      <td> 3.6</td>\n      <td> 2</td>\n    </tr>\n    <tr>\n      <th>four</th>\n      <td> 2001</td>\n      <td> Nevada</td>\n      <td> 2.4</td>\n      <td> 3</td>\n    </tr>\n    <tr>\n      <th>five</th>\n      <td> 2002</td>\n      <td> Nevada</td>\n      <td> 2.9</td>\n      <td> 4</td>\n    </tr>\n  </tbody>\n</table>\n<p>5 rows \u00d7 4 columns</p>\n</div>",
       "metadata": {},
       "output_type": "pyout",
       "prompt_number": 123,
       "text": "       year   state  pop  debt\none    2000    Ohio  1.5     0\ntwo    2001    Ohio  1.7     1\nthree  2002    Ohio  3.6     2\nfour   2001  Nevada  2.4     3\nfive   2002  Nevada  2.9     4\n\n[5 rows x 4 columns]"
      }
     ],
     "prompt_number": 123
    },
    {
     "cell_type": "markdown",
     "metadata": {},
     "source": "When assigning lists or arrays to a column, the value's length must match the length of the DataFrame.  If you assign a Series, it will conform exactly to the DataFrame's index, inserting missing values in any holes."
    },
    {
     "cell_type": "code",
     "collapsed": false,
     "input": "val = Series([-1.3, 1.5, -1.7], index=['two', 'three', 'five'])",
     "language": "python",
     "metadata": {},
     "outputs": [],
     "prompt_number": 124
    },
    {
     "cell_type": "code",
     "collapsed": false,
     "input": "frame2['debt'] = val",
     "language": "python",
     "metadata": {},
     "outputs": [],
     "prompt_number": 125
    },
    {
     "cell_type": "code",
     "collapsed": false,
     "input": "frame2",
     "language": "python",
     "metadata": {},
     "outputs": [
      {
       "html": "<div style=\"max-height:1000px;max-width:1500px;overflow:auto;\">\n<table border=\"1\" class=\"dataframe\">\n  <thead>\n    <tr style=\"text-align: right;\">\n      <th></th>\n      <th>year</th>\n      <th>state</th>\n      <th>pop</th>\n      <th>debt</th>\n    </tr>\n  </thead>\n  <tbody>\n    <tr>\n      <th>one</th>\n      <td> 2000</td>\n      <td>   Ohio</td>\n      <td> 1.5</td>\n      <td> NaN</td>\n    </tr>\n    <tr>\n      <th>two</th>\n      <td> 2001</td>\n      <td>   Ohio</td>\n      <td> 1.7</td>\n      <td>-1.3</td>\n    </tr>\n    <tr>\n      <th>three</th>\n      <td> 2002</td>\n      <td>   Ohio</td>\n      <td> 3.6</td>\n      <td> 1.5</td>\n    </tr>\n    <tr>\n      <th>four</th>\n      <td> 2001</td>\n      <td> Nevada</td>\n      <td> 2.4</td>\n      <td> NaN</td>\n    </tr>\n    <tr>\n      <th>five</th>\n      <td> 2002</td>\n      <td> Nevada</td>\n      <td> 2.9</td>\n      <td>-1.7</td>\n    </tr>\n  </tbody>\n</table>\n<p>5 rows \u00d7 4 columns</p>\n</div>",
       "metadata": {},
       "output_type": "pyout",
       "prompt_number": 126,
       "text": "       year   state  pop  debt\none    2000    Ohio  1.5   NaN\ntwo    2001    Ohio  1.7  -1.3\nthree  2002    Ohio  3.6   1.5\nfour   2001  Nevada  2.4   NaN\nfive   2002  Nevada  2.9  -1.7\n\n[5 rows x 4 columns]"
      }
     ],
     "prompt_number": 126
    },
    {
     "cell_type": "markdown",
     "metadata": {},
     "source": "Assigning a column that doesn't exist will create a new column."
    },
    {
     "cell_type": "code",
     "collapsed": false,
     "input": "frame2['eastern'] = frame2.state == 'Ohio'",
     "language": "python",
     "metadata": {},
     "outputs": [],
     "prompt_number": 127
    },
    {
     "cell_type": "code",
     "collapsed": false,
     "input": "frame2",
     "language": "python",
     "metadata": {},
     "outputs": [
      {
       "html": "<div style=\"max-height:1000px;max-width:1500px;overflow:auto;\">\n<table border=\"1\" class=\"dataframe\">\n  <thead>\n    <tr style=\"text-align: right;\">\n      <th></th>\n      <th>year</th>\n      <th>state</th>\n      <th>pop</th>\n      <th>debt</th>\n      <th>eastern</th>\n    </tr>\n  </thead>\n  <tbody>\n    <tr>\n      <th>one</th>\n      <td> 2000</td>\n      <td>   Ohio</td>\n      <td> 1.5</td>\n      <td> NaN</td>\n      <td>  True</td>\n    </tr>\n    <tr>\n      <th>two</th>\n      <td> 2001</td>\n      <td>   Ohio</td>\n      <td> 1.7</td>\n      <td>-1.3</td>\n      <td>  True</td>\n    </tr>\n    <tr>\n      <th>three</th>\n      <td> 2002</td>\n      <td>   Ohio</td>\n      <td> 3.6</td>\n      <td> 1.5</td>\n      <td>  True</td>\n    </tr>\n    <tr>\n      <th>four</th>\n      <td> 2001</td>\n      <td> Nevada</td>\n      <td> 2.4</td>\n      <td> NaN</td>\n      <td> False</td>\n    </tr>\n    <tr>\n      <th>five</th>\n      <td> 2002</td>\n      <td> Nevada</td>\n      <td> 2.9</td>\n      <td>-1.7</td>\n      <td> False</td>\n    </tr>\n  </tbody>\n</table>\n<p>5 rows \u00d7 5 columns</p>\n</div>",
       "metadata": {},
       "output_type": "pyout",
       "prompt_number": 128,
       "text": "       year   state  pop  debt eastern\none    2000    Ohio  1.5   NaN    True\ntwo    2001    Ohio  1.7  -1.3    True\nthree  2002    Ohio  3.6   1.5    True\nfour   2001  Nevada  2.4   NaN   False\nfive   2002  Nevada  2.9  -1.7   False\n\n[5 rows x 5 columns]"
      }
     ],
     "prompt_number": 128
    },
    {
     "cell_type": "markdown",
     "metadata": {},
     "source": "The del keyword will delete columns as with a dict."
    },
    {
     "cell_type": "code",
     "collapsed": false,
     "input": "del frame2['eastern']",
     "language": "python",
     "metadata": {},
     "outputs": [],
     "prompt_number": 129
    },
    {
     "cell_type": "code",
     "collapsed": false,
     "input": "frame2.columns",
     "language": "python",
     "metadata": {},
     "outputs": [
      {
       "metadata": {},
       "output_type": "pyout",
       "prompt_number": 130,
       "text": "Index([u'year', u'state', u'pop', u'debt'], dtype='object')"
      }
     ],
     "prompt_number": 130
    },
    {
     "cell_type": "markdown",
     "metadata": {},
     "source": "Another common form of data is a nested dict of dicts format."
    },
    {
     "cell_type": "code",
     "collapsed": false,
     "input": "pop = {'Nevada': {2001:2.4, 2002: 2.9},\n       'Ohio': {2000:1.5, 2001:1.7, 2002:3.6}}",
     "language": "python",
     "metadata": {},
     "outputs": [],
     "prompt_number": 131
    },
    {
     "cell_type": "markdown",
     "metadata": {},
     "source": "\\12.  Pass pop to a DataFrame and call the new DataFrame object, frame3.  Notice that DataFrame will interpret the outer dict keys as the columns and the inner keys as the row indices."
    },
    {
     "cell_type": "code",
     "collapsed": false,
     "input": "frame3 = DataFrame(pop)",
     "language": "python",
     "metadata": {},
     "outputs": [],
     "prompt_number": 132
    },
    {
     "cell_type": "code",
     "collapsed": false,
     "input": "frame3",
     "language": "python",
     "metadata": {},
     "outputs": [
      {
       "html": "<div style=\"max-height:1000px;max-width:1500px;overflow:auto;\">\n<table border=\"1\" class=\"dataframe\">\n  <thead>\n    <tr style=\"text-align: right;\">\n      <th></th>\n      <th>Nevada</th>\n      <th>Ohio</th>\n    </tr>\n  </thead>\n  <tbody>\n    <tr>\n      <th>2000</th>\n      <td> NaN</td>\n      <td> 1.5</td>\n    </tr>\n    <tr>\n      <th>2001</th>\n      <td> 2.4</td>\n      <td> 1.7</td>\n    </tr>\n    <tr>\n      <th>2002</th>\n      <td> 2.9</td>\n      <td> 3.6</td>\n    </tr>\n  </tbody>\n</table>\n<p>3 rows \u00d7 2 columns</p>\n</div>",
       "metadata": {},
       "output_type": "pyout",
       "prompt_number": 133,
       "text": "      Nevada  Ohio\n2000     NaN   1.5\n2001     2.4   1.7\n2002     2.9   3.6\n\n[3 rows x 2 columns]"
      }
     ],
     "prompt_number": 133
    },
    {
     "cell_type": "markdown",
     "metadata": {},
     "source": "\\13.  Transpose the result so that the table below is observed."
    },
    {
     "cell_type": "code",
     "collapsed": false,
     "input": "frame3.transpose()",
     "language": "python",
     "metadata": {},
     "outputs": [
      {
       "html": "<div style=\"max-height:1000px;max-width:1500px;overflow:auto;\">\n<table border=\"1\" class=\"dataframe\">\n  <thead>\n    <tr style=\"text-align: right;\">\n      <th></th>\n      <th>2000</th>\n      <th>2001</th>\n      <th>2002</th>\n    </tr>\n  </thead>\n  <tbody>\n    <tr>\n      <th>Nevada</th>\n      <td> NaN</td>\n      <td> 2.4</td>\n      <td> 2.9</td>\n    </tr>\n    <tr>\n      <th>Ohio</th>\n      <td> 1.5</td>\n      <td> 1.7</td>\n      <td> 3.6</td>\n    </tr>\n  </tbody>\n</table>\n<p>2 rows \u00d7 3 columns</p>\n</div>",
       "metadata": {},
       "output_type": "pyout",
       "prompt_number": 134,
       "text": "        2000  2001  2002\nNevada   NaN   2.4   2.9\nOhio     1.5   1.7   3.6\n\n[2 rows x 3 columns]"
      }
     ],
     "prompt_number": 134
    },
    {
     "cell_type": "markdown",
     "metadata": {},
     "source": "\\14. Set the DataFrame's name attributes of index and columns to be 'year' and 'state', respectively."
    },
    {
     "cell_type": "code",
     "collapsed": false,
     "input": "frame3.index.name = 'year'",
     "language": "python",
     "metadata": {},
     "outputs": [],
     "prompt_number": 135
    },
    {
     "cell_type": "code",
     "collapsed": false,
     "input": "frame3.columns.name = 'state'",
     "language": "python",
     "metadata": {},
     "outputs": [],
     "prompt_number": 136
    },
    {
     "cell_type": "code",
     "collapsed": false,
     "input": "frame3",
     "language": "python",
     "metadata": {},
     "outputs": [
      {
       "html": "<div style=\"max-height:1000px;max-width:1500px;overflow:auto;\">\n<table border=\"1\" class=\"dataframe\">\n  <thead>\n    <tr style=\"text-align: right;\">\n      <th>state</th>\n      <th>Nevada</th>\n      <th>Ohio</th>\n    </tr>\n    <tr>\n      <th>year</th>\n      <th></th>\n      <th></th>\n    </tr>\n  </thead>\n  <tbody>\n    <tr>\n      <th>2000</th>\n      <td> NaN</td>\n      <td> 1.5</td>\n    </tr>\n    <tr>\n      <th>2001</th>\n      <td> 2.4</td>\n      <td> 1.7</td>\n    </tr>\n    <tr>\n      <th>2002</th>\n      <td> 2.9</td>\n      <td> 3.6</td>\n    </tr>\n  </tbody>\n</table>\n<p>3 rows \u00d7 2 columns</p>\n</div>",
       "metadata": {},
       "output_type": "pyout",
       "prompt_number": 137,
       "text": "state  Nevada  Ohio\nyear               \n2000      NaN   1.5\n2001      2.4   1.7\n2002      2.9   3.6\n\n[3 rows x 2 columns]"
      }
     ],
     "prompt_number": 137
    },
    {
     "cell_type": "heading",
     "level": 3,
     "metadata": {},
     "source": "Index Objects"
    },
    {
     "cell_type": "markdown",
     "metadata": {},
     "source": "pandas's Index objects are responsible for holding the axis labels and other metadata (like the axis name or names).  Any array or other sequence of labels used when constructing a Series or DataFrame is internally converted to an Index:"
    },
    {
     "cell_type": "code",
     "collapsed": false,
     "input": "obj4 = Series(range(3), index=['a', 'b', 'c'])",
     "language": "python",
     "metadata": {},
     "outputs": [],
     "prompt_number": 138
    },
    {
     "cell_type": "code",
     "collapsed": false,
     "input": "index4 = obj4.index",
     "language": "python",
     "metadata": {},
     "outputs": [],
     "prompt_number": 139
    },
    {
     "cell_type": "code",
     "collapsed": false,
     "input": "index4",
     "language": "python",
     "metadata": {},
     "outputs": [
      {
       "metadata": {},
       "output_type": "pyout",
       "prompt_number": 140,
       "text": "Index([u'a', u'b', u'c'], dtype='object')"
      }
     ],
     "prompt_number": 140
    },
    {
     "cell_type": "code",
     "collapsed": false,
     "input": "index4[1:]",
     "language": "python",
     "metadata": {},
     "outputs": [
      {
       "metadata": {},
       "output_type": "pyout",
       "prompt_number": 141,
       "text": "Index([u'b', u'c'], dtype='object')"
      }
     ],
     "prompt_number": 141
    },
    {
     "cell_type": "markdown",
     "metadata": {},
     "source": "Index objects are immutable and thus can't be modified by the user:"
    },
    {
     "cell_type": "code",
     "collapsed": false,
     "input": "index4[1] = 'd'",
     "language": "python",
     "metadata": {},
     "outputs": [
      {
       "ename": "TypeError",
       "evalue": "'<class 'pandas.core.index.Index'>' does not support mutable operations.",
       "output_type": "pyerr",
       "traceback": [
        "\u001b[1;31m---------------------------------------------------------------------------\u001b[0m\n\u001b[1;31mTypeError\u001b[0m                                 Traceback (most recent call last)",
        "\u001b[1;32m<ipython-input-142-ddc43758e4ee>\u001b[0m in \u001b[0;36m<module>\u001b[1;34m()\u001b[0m\n\u001b[1;32m----> 1\u001b[1;33m \u001b[0mindex4\u001b[0m\u001b[1;33m[\u001b[0m\u001b[1;36m1\u001b[0m\u001b[1;33m]\u001b[0m \u001b[1;33m=\u001b[0m \u001b[1;34m'd'\u001b[0m\u001b[1;33m\u001b[0m\u001b[0m\n\u001b[0m",
        "\u001b[1;32m/usr/lib/python2.7/dist-packages/pandas/core/base.pyc\u001b[0m in \u001b[0;36m_disabled\u001b[1;34m(self, *args, **kwargs)\u001b[0m\n\u001b[0;32m    178\u001b[0m         \u001b[1;34m\"\"\"This method will not function because object is immutable.\"\"\"\u001b[0m\u001b[1;33m\u001b[0m\u001b[0m\n\u001b[0;32m    179\u001b[0m         raise TypeError(\"'%s' does not support mutable operations.\" %\n\u001b[1;32m--> 180\u001b[1;33m                         self.__class__)\n\u001b[0m\u001b[0;32m    181\u001b[0m \u001b[1;33m\u001b[0m\u001b[0m\n\u001b[0;32m    182\u001b[0m     \u001b[0m__setitem__\u001b[0m \u001b[1;33m=\u001b[0m \u001b[0m__setslice__\u001b[0m \u001b[1;33m=\u001b[0m \u001b[0m__delitem__\u001b[0m \u001b[1;33m=\u001b[0m \u001b[0m__delslice__\u001b[0m \u001b[1;33m=\u001b[0m \u001b[0m_disabled\u001b[0m\u001b[1;33m\u001b[0m\u001b[0m\n",
        "\u001b[1;31mTypeError\u001b[0m: '<class 'pandas.core.index.Index'>' does not support mutable operations."
       ]
      }
     ],
     "prompt_number": 142
    },
    {
     "cell_type": "markdown",
     "metadata": {},
     "source": "Immutability is important so that Index objects can be safely shared among data structures."
    },
    {
     "cell_type": "code",
     "collapsed": false,
     "input": "index5 = pd.Index(np.arange(3))",
     "language": "python",
     "metadata": {},
     "outputs": [],
     "prompt_number": 143
    },
    {
     "cell_type": "code",
     "collapsed": false,
     "input": "obj5 = Series([1.5, -2.3, 1.0], index=index5)",
     "language": "python",
     "metadata": {},
     "outputs": [],
     "prompt_number": 144
    },
    {
     "cell_type": "code",
     "collapsed": false,
     "input": "obj5.index is index5",
     "language": "python",
     "metadata": {},
     "outputs": [
      {
       "metadata": {},
       "output_type": "pyout",
       "prompt_number": 145,
       "text": "True"
      }
     ],
     "prompt_number": 145
    },
    {
     "cell_type": "markdown",
     "metadata": {},
     "source": "Each index has a number of methods and properties for set logic and answering other common questions about the data it contains: append, diff, intersection, union, isin, delete, drop, insert, is_monotonic, is_unique, unique."
    },
    {
     "cell_type": "heading",
     "level": 1,
     "metadata": {},
     "source": "Essential Functionality"
    },
    {
     "cell_type": "markdown",
     "metadata": {},
     "source": "In this section, we focus on the most important features of pandas by exploring the fundamental mechanics of interacting with the data contained in a series or DataFrame."
    },
    {
     "cell_type": "heading",
     "level": 3,
     "metadata": {},
     "source": "Reindexing"
    },
    {
     "cell_type": "markdown",
     "metadata": {},
     "source": "A critical method on pandas object is reindex, which means to create a new object with the data conformed to a new index."
    },
    {
     "cell_type": "code",
     "collapsed": false,
     "input": "obj = Series([4.5, 5.1, -6.4, 3.6], index=['d', 'b', 'a', 'c'])",
     "language": "python",
     "metadata": {},
     "outputs": [],
     "prompt_number": 146
    },
    {
     "cell_type": "code",
     "collapsed": false,
     "input": "obj",
     "language": "python",
     "metadata": {},
     "outputs": [
      {
       "metadata": {},
       "output_type": "pyout",
       "prompt_number": 147,
       "text": "d    4.5\nb    5.1\na   -6.4\nc    3.6\ndtype: float64"
      }
     ],
     "prompt_number": 147
    },
    {
     "cell_type": "markdown",
     "metadata": {},
     "source": "Calling reindex on this Series rearranges the data according to the new index, introducing missing values if any index values were not already present."
    },
    {
     "cell_type": "code",
     "collapsed": false,
     "input": "obj2 = obj.reindex(['a', 'b', 'c', 'd', 'e'])",
     "language": "python",
     "metadata": {},
     "outputs": [],
     "prompt_number": 148
    },
    {
     "cell_type": "code",
     "collapsed": false,
     "input": "obj2",
     "language": "python",
     "metadata": {},
     "outputs": [
      {
       "metadata": {},
       "output_type": "pyout",
       "prompt_number": 149,
       "text": "a   -6.4\nb    5.1\nc    3.6\nd    4.5\ne    NaN\ndtype: float64"
      }
     ],
     "prompt_number": 149
    },
    {
     "cell_type": "markdown",
     "metadata": {},
     "source": "You can specify the value of the missing data to be other than the default NaN."
    },
    {
     "cell_type": "code",
     "collapsed": false,
     "input": "obj.reindex(['a', 'b', 'c', 'd', 'e'], fill_value=0)",
     "language": "python",
     "metadata": {},
     "outputs": [
      {
       "metadata": {},
       "output_type": "pyout",
       "prompt_number": 150,
       "text": "a   -6.4\nb    5.1\nc    3.6\nd    4.5\ne    0.0\ndtype: float64"
      }
     ],
     "prompt_number": 150
    },
    {
     "cell_type": "markdown",
     "metadata": {},
     "source": "For ordered data like time series, it is possible to do some interpolation or filling values when reindexing.  The methods available are: ffill or pad, bfill or backfill."
    },
    {
     "cell_type": "code",
     "collapsed": false,
     "input": "obj3 = Series(['blue', 'purple', 'yellow'], index = [0, 2, 4])",
     "language": "python",
     "metadata": {},
     "outputs": [],
     "prompt_number": 151
    },
    {
     "cell_type": "code",
     "collapsed": false,
     "input": "obj3.reindex(range(6), method = 'ffill')",
     "language": "python",
     "metadata": {},
     "outputs": [
      {
       "metadata": {},
       "output_type": "pyout",
       "prompt_number": 152,
       "text": "0      blue\n1      blue\n2    purple\n3    purple\n4    yellow\n5    yellow\ndtype: object"
      }
     ],
     "prompt_number": 152
    },
    {
     "cell_type": "heading",
     "level": 3,
     "metadata": {},
     "source": "Dropping Entries from An Axis"
    },
    {
     "cell_type": "markdown",
     "metadata": {},
     "source": "Dropping one or more entries from an axis is easy if you have an index array or list without those entries.  The drop method will return a new object with the indicated value or values deleted from an axis."
    },
    {
     "cell_type": "code",
     "collapsed": false,
     "input": "obj = Series(np.arange(5.), index=['a', 'b', 'c', 'd', 'e'])",
     "language": "python",
     "metadata": {},
     "outputs": [],
     "prompt_number": 153
    },
    {
     "cell_type": "markdown",
     "metadata": {},
     "source": "\\15.  Drop the row 'c' using the drop method such that the table below is observed."
    },
    {
     "cell_type": "code",
     "collapsed": false,
     "input": "new_obj = obj.drop('c')",
     "language": "python",
     "metadata": {},
     "outputs": [],
     "prompt_number": 154
    },
    {
     "cell_type": "code",
     "collapsed": false,
     "input": "new_obj",
     "language": "python",
     "metadata": {},
     "outputs": [
      {
       "metadata": {},
       "output_type": "pyout",
       "prompt_number": 155,
       "text": "a    0\nb    1\nd    3\ne    4\ndtype: float64"
      }
     ],
     "prompt_number": 155
    },
    {
     "cell_type": "markdown",
     "metadata": {},
     "source": "With DataFrame, index values can be deleted from either axis."
    },
    {
     "cell_type": "code",
     "collapsed": false,
     "input": "data = DataFrame(np.arange(16).reshape((4, 4)),\n                 index=['Ohio', 'Colorado', 'Utah', 'New York'],\n                 columns=['one', 'two', 'three', 'four'])",
     "language": "python",
     "metadata": {},
     "outputs": [],
     "prompt_number": 156
    },
    {
     "cell_type": "code",
     "collapsed": false,
     "input": "data.drop(['Colorado', 'Ohio'])",
     "language": "python",
     "metadata": {},
     "outputs": [
      {
       "html": "<div style=\"max-height:1000px;max-width:1500px;overflow:auto;\">\n<table border=\"1\" class=\"dataframe\">\n  <thead>\n    <tr style=\"text-align: right;\">\n      <th></th>\n      <th>one</th>\n      <th>two</th>\n      <th>three</th>\n      <th>four</th>\n    </tr>\n  </thead>\n  <tbody>\n    <tr>\n      <th>Utah</th>\n      <td>  8</td>\n      <td>  9</td>\n      <td> 10</td>\n      <td> 11</td>\n    </tr>\n    <tr>\n      <th>New York</th>\n      <td> 12</td>\n      <td> 13</td>\n      <td> 14</td>\n      <td> 15</td>\n    </tr>\n  </tbody>\n</table>\n<p>2 rows \u00d7 4 columns</p>\n</div>",
       "metadata": {},
       "output_type": "pyout",
       "prompt_number": 157,
       "text": "          one  two  three  four\nUtah        8    9     10    11\nNew York   12   13     14    15\n\n[2 rows x 4 columns]"
      }
     ],
     "prompt_number": 157
    },
    {
     "cell_type": "markdown",
     "metadata": {},
     "source": "\\16.  Drop columns 'two' and 'four'.  (Hint: you need to specify the axis in the argument, such that the following table is observed below."
    },
    {
     "cell_type": "code",
     "collapsed": false,
     "input": "data.drop(['two','four'],1)",
     "language": "python",
     "metadata": {},
     "outputs": [
      {
       "html": "<div style=\"max-height:1000px;max-width:1500px;overflow:auto;\">\n<table border=\"1\" class=\"dataframe\">\n  <thead>\n    <tr style=\"text-align: right;\">\n      <th></th>\n      <th>one</th>\n      <th>three</th>\n    </tr>\n  </thead>\n  <tbody>\n    <tr>\n      <th>Ohio</th>\n      <td>  0</td>\n      <td>  2</td>\n    </tr>\n    <tr>\n      <th>Colorado</th>\n      <td>  4</td>\n      <td>  6</td>\n    </tr>\n    <tr>\n      <th>Utah</th>\n      <td>  8</td>\n      <td> 10</td>\n    </tr>\n    <tr>\n      <th>New York</th>\n      <td> 12</td>\n      <td> 14</td>\n    </tr>\n  </tbody>\n</table>\n<p>4 rows \u00d7 2 columns</p>\n</div>",
       "metadata": {},
       "output_type": "pyout",
       "prompt_number": 158,
       "text": "          one  three\nOhio        0      2\nColorado    4      6\nUtah        8     10\nNew York   12     14\n\n[4 rows x 2 columns]"
      }
     ],
     "prompt_number": 158
    },
    {
     "cell_type": "heading",
     "level": 3,
     "metadata": {},
     "source": "Indexing, Selection, Filtering"
    },
    {
     "cell_type": "code",
     "collapsed": false,
     "input": "obj = Series(np.arange(4.), index=['a', 'b', 'c', 'd'])",
     "language": "python",
     "metadata": {},
     "outputs": [],
     "prompt_number": 159
    },
    {
     "cell_type": "code",
     "collapsed": false,
     "input": "obj['b']",
     "language": "python",
     "metadata": {},
     "outputs": [
      {
       "metadata": {},
       "output_type": "pyout",
       "prompt_number": 160,
       "text": "1.0"
      }
     ],
     "prompt_number": 160
    },
    {
     "cell_type": "code",
     "collapsed": false,
     "input": "obj[1]",
     "language": "python",
     "metadata": {},
     "outputs": [
      {
       "metadata": {},
       "output_type": "pyout",
       "prompt_number": 161,
       "text": "1.0"
      }
     ],
     "prompt_number": 161
    },
    {
     "cell_type": "code",
     "collapsed": false,
     "input": "obj[2:4]",
     "language": "python",
     "metadata": {},
     "outputs": [
      {
       "metadata": {},
       "output_type": "pyout",
       "prompt_number": 162,
       "text": "c    2\nd    3\ndtype: float64"
      }
     ],
     "prompt_number": 162
    },
    {
     "cell_type": "markdown",
     "metadata": {},
     "source": "Slicing with labels behaves differently than normal Python slicing in that the endpoint is inclusive:"
    },
    {
     "cell_type": "code",
     "collapsed": false,
     "input": "obj['b':'c'] = 5",
     "language": "python",
     "metadata": {},
     "outputs": [],
     "prompt_number": 163
    },
    {
     "cell_type": "code",
     "collapsed": false,
     "input": "obj",
     "language": "python",
     "metadata": {},
     "outputs": [
      {
       "metadata": {},
       "output_type": "pyout",
       "prompt_number": 164,
       "text": "a    0\nb    5\nc    5\nd    3\ndtype: float64"
      }
     ],
     "prompt_number": 164
    },
    {
     "cell_type": "markdown",
     "metadata": {},
     "source": "Indexing into a DataFrame is for retrieving one or more columns either with a single value or sequence."
    },
    {
     "cell_type": "code",
     "collapsed": false,
     "input": "data = DataFrame(np.arange(16).reshape((4,4)),\n                 index=['Ohio', 'Colorado', 'Utah', 'New York'],\n                 columns=['one', 'two', 'three', 'four'])",
     "language": "python",
     "metadata": {},
     "outputs": [],
     "prompt_number": 165
    },
    {
     "cell_type": "code",
     "collapsed": false,
     "input": "data",
     "language": "python",
     "metadata": {},
     "outputs": [
      {
       "html": "<div style=\"max-height:1000px;max-width:1500px;overflow:auto;\">\n<table border=\"1\" class=\"dataframe\">\n  <thead>\n    <tr style=\"text-align: right;\">\n      <th></th>\n      <th>one</th>\n      <th>two</th>\n      <th>three</th>\n      <th>four</th>\n    </tr>\n  </thead>\n  <tbody>\n    <tr>\n      <th>Ohio</th>\n      <td>  0</td>\n      <td>  1</td>\n      <td>  2</td>\n      <td>  3</td>\n    </tr>\n    <tr>\n      <th>Colorado</th>\n      <td>  4</td>\n      <td>  5</td>\n      <td>  6</td>\n      <td>  7</td>\n    </tr>\n    <tr>\n      <th>Utah</th>\n      <td>  8</td>\n      <td>  9</td>\n      <td> 10</td>\n      <td> 11</td>\n    </tr>\n    <tr>\n      <th>New York</th>\n      <td> 12</td>\n      <td> 13</td>\n      <td> 14</td>\n      <td> 15</td>\n    </tr>\n  </tbody>\n</table>\n<p>4 rows \u00d7 4 columns</p>\n</div>",
       "metadata": {},
       "output_type": "pyout",
       "prompt_number": 166,
       "text": "          one  two  three  four\nOhio        0    1      2     3\nColorado    4    5      6     7\nUtah        8    9     10    11\nNew York   12   13     14    15\n\n[4 rows x 4 columns]"
      }
     ],
     "prompt_number": 166
    },
    {
     "cell_type": "markdown",
     "metadata": {},
     "source": "\\17.  Retriev only columns 'three' and 'one' in that order, such that the table below is observed."
    },
    {
     "cell_type": "code",
     "collapsed": false,
     "input": "data[['three','one']]",
     "language": "python",
     "metadata": {},
     "outputs": [
      {
       "html": "<div style=\"max-height:1000px;max-width:1500px;overflow:auto;\">\n<table border=\"1\" class=\"dataframe\">\n  <thead>\n    <tr style=\"text-align: right;\">\n      <th></th>\n      <th>three</th>\n      <th>one</th>\n    </tr>\n  </thead>\n  <tbody>\n    <tr>\n      <th>Ohio</th>\n      <td>  2</td>\n      <td>  0</td>\n    </tr>\n    <tr>\n      <th>Colorado</th>\n      <td>  6</td>\n      <td>  4</td>\n    </tr>\n    <tr>\n      <th>Utah</th>\n      <td> 10</td>\n      <td>  8</td>\n    </tr>\n    <tr>\n      <th>New York</th>\n      <td> 14</td>\n      <td> 12</td>\n    </tr>\n  </tbody>\n</table>\n<p>4 rows \u00d7 2 columns</p>\n</div>",
       "metadata": {},
       "output_type": "pyout",
       "prompt_number": 167,
       "text": "          three  one\nOhio          2    0\nColorado      6    4\nUtah         10    8\nNew York     14   12\n\n[4 rows x 2 columns]"
      }
     ],
     "prompt_number": 167
    },
    {
     "cell_type": "markdown",
     "metadata": {},
     "source": "\\18.  Retrieve only the first two rows of the data above (data containing Ohio, Colorado only)such that the table below is observed."
    },
    {
     "cell_type": "code",
     "collapsed": false,
     "input": "data[0:2]",
     "language": "python",
     "metadata": {},
     "outputs": [
      {
       "html": "<div style=\"max-height:1000px;max-width:1500px;overflow:auto;\">\n<table border=\"1\" class=\"dataframe\">\n  <thead>\n    <tr style=\"text-align: right;\">\n      <th></th>\n      <th>one</th>\n      <th>two</th>\n      <th>three</th>\n      <th>four</th>\n    </tr>\n  </thead>\n  <tbody>\n    <tr>\n      <th>Ohio</th>\n      <td> 0</td>\n      <td> 1</td>\n      <td> 2</td>\n      <td> 3</td>\n    </tr>\n    <tr>\n      <th>Colorado</th>\n      <td> 4</td>\n      <td> 5</td>\n      <td> 6</td>\n      <td> 7</td>\n    </tr>\n  </tbody>\n</table>\n<p>2 rows \u00d7 4 columns</p>\n</div>",
       "metadata": {},
       "output_type": "pyout",
       "prompt_number": 168,
       "text": "          one  two  three  four\nOhio        0    1      2     3\nColorado    4    5      6     7\n\n[2 rows x 4 columns]"
      }
     ],
     "prompt_number": 168
    },
    {
     "cell_type": "markdown",
     "metadata": {},
     "source": "Another useful case is an indexing with a boolean DataFrame, such as one produced by a scalar comparison."
    },
    {
     "cell_type": "code",
     "collapsed": false,
     "input": "data < 5",
     "language": "python",
     "metadata": {},
     "outputs": [
      {
       "html": "<div style=\"max-height:1000px;max-width:1500px;overflow:auto;\">\n<table border=\"1\" class=\"dataframe\">\n  <thead>\n    <tr style=\"text-align: right;\">\n      <th></th>\n      <th>one</th>\n      <th>two</th>\n      <th>three</th>\n      <th>four</th>\n    </tr>\n  </thead>\n  <tbody>\n    <tr>\n      <th>Ohio</th>\n      <td>  True</td>\n      <td>  True</td>\n      <td>  True</td>\n      <td>  True</td>\n    </tr>\n    <tr>\n      <th>Colorado</th>\n      <td>  True</td>\n      <td> False</td>\n      <td> False</td>\n      <td> False</td>\n    </tr>\n    <tr>\n      <th>Utah</th>\n      <td> False</td>\n      <td> False</td>\n      <td> False</td>\n      <td> False</td>\n    </tr>\n    <tr>\n      <th>New York</th>\n      <td> False</td>\n      <td> False</td>\n      <td> False</td>\n      <td> False</td>\n    </tr>\n  </tbody>\n</table>\n<p>4 rows \u00d7 4 columns</p>\n</div>",
       "metadata": {},
       "output_type": "pyout",
       "prompt_number": 169,
       "text": "            one    two  three   four\nOhio       True   True   True   True\nColorado   True  False  False  False\nUtah      False  False  False  False\nNew York  False  False  False  False\n\n[4 rows x 4 columns]"
      }
     ],
     "prompt_number": 169
    },
    {
     "cell_type": "markdown",
     "metadata": {},
     "source": "\\19.  Manipulate the data table such that values less than 5 are set to 0.  The table below should be observed."
    },
    {
     "cell_type": "code",
     "collapsed": false,
     "input": "data[data < 5] = 0",
     "language": "python",
     "metadata": {},
     "outputs": [],
     "prompt_number": 170
    },
    {
     "cell_type": "code",
     "collapsed": false,
     "input": "data",
     "language": "python",
     "metadata": {},
     "outputs": [
      {
       "html": "<div style=\"max-height:1000px;max-width:1500px;overflow:auto;\">\n<table border=\"1\" class=\"dataframe\">\n  <thead>\n    <tr style=\"text-align: right;\">\n      <th></th>\n      <th>one</th>\n      <th>two</th>\n      <th>three</th>\n      <th>four</th>\n    </tr>\n  </thead>\n  <tbody>\n    <tr>\n      <th>Ohio</th>\n      <td>  0</td>\n      <td>  0</td>\n      <td>  0</td>\n      <td>  0</td>\n    </tr>\n    <tr>\n      <th>Colorado</th>\n      <td>  0</td>\n      <td>  5</td>\n      <td>  6</td>\n      <td>  7</td>\n    </tr>\n    <tr>\n      <th>Utah</th>\n      <td>  8</td>\n      <td>  9</td>\n      <td> 10</td>\n      <td> 11</td>\n    </tr>\n    <tr>\n      <th>New York</th>\n      <td> 12</td>\n      <td> 13</td>\n      <td> 14</td>\n      <td> 15</td>\n    </tr>\n  </tbody>\n</table>\n<p>4 rows \u00d7 4 columns</p>\n</div>",
       "metadata": {},
       "output_type": "pyout",
       "prompt_number": 171,
       "text": "          one  two  three  four\nOhio        0    0      0     0\nColorado    0    5      6     7\nUtah        8    9     10    11\nNew York   12   13     14    15\n\n[4 rows x 4 columns]"
      }
     ],
     "prompt_number": 171
    },
    {
     "cell_type": "markdown",
     "metadata": {},
     "source": "For DataFrame label-indexing on the rows, we encountered the special indexing field ix earlier.  It enables you to select a subset of the rows and columns from a DataFrame with NumPy like notation plus axis labels.  Study the examples below to be able to answer the questions in this section."
    },
    {
     "cell_type": "code",
     "collapsed": false,
     "input": "data.ix['Colorado', ['two', 'three']]",
     "language": "python",
     "metadata": {},
     "outputs": [
      {
       "metadata": {},
       "output_type": "pyout",
       "prompt_number": 172,
       "text": "two      5\nthree    6\nName: Colorado, dtype: int64"
      }
     ],
     "prompt_number": 172
    },
    {
     "cell_type": "code",
     "collapsed": false,
     "input": "data.ix[['Colorado', 'Utah'], [3, 0, 1]]",
     "language": "python",
     "metadata": {},
     "outputs": [
      {
       "html": "<div style=\"max-height:1000px;max-width:1500px;overflow:auto;\">\n<table border=\"1\" class=\"dataframe\">\n  <thead>\n    <tr style=\"text-align: right;\">\n      <th></th>\n      <th>four</th>\n      <th>one</th>\n      <th>two</th>\n    </tr>\n  </thead>\n  <tbody>\n    <tr>\n      <th>Colorado</th>\n      <td>  7</td>\n      <td> 0</td>\n      <td> 5</td>\n    </tr>\n    <tr>\n      <th>Utah</th>\n      <td> 11</td>\n      <td> 8</td>\n      <td> 9</td>\n    </tr>\n  </tbody>\n</table>\n<p>2 rows \u00d7 3 columns</p>\n</div>",
       "metadata": {},
       "output_type": "pyout",
       "prompt_number": 173,
       "text": "          four  one  two\nColorado     7    0    5\nUtah        11    8    9\n\n[2 rows x 3 columns]"
      }
     ],
     "prompt_number": 173
    },
    {
     "cell_type": "code",
     "collapsed": false,
     "input": "data.ix[2]",
     "language": "python",
     "metadata": {},
     "outputs": [
      {
       "metadata": {},
       "output_type": "pyout",
       "prompt_number": 174,
       "text": "one       8\ntwo       9\nthree    10\nfour     11\nName: Utah, dtype: int64"
      }
     ],
     "prompt_number": 174
    },
    {
     "cell_type": "markdown",
     "metadata": {},
     "source": "\\20.  Show the data table containing only column 'two of rows from Ohio to Utah only, such that the table below is observed."
    },
    {
     "cell_type": "code",
     "collapsed": false,
     "input": "data.ix[(0,1,2),1] ",
     "language": "python",
     "metadata": {},
     "outputs": [
      {
       "metadata": {},
       "output_type": "pyout",
       "prompt_number": 175,
       "text": "Ohio        0\nColorado    5\nUtah        9\nName: two, dtype: int64"
      }
     ],
     "prompt_number": 175
    },
    {
     "cell_type": "markdown",
     "metadata": {},
     "source": "There are many ways to select and rearrange the data contained in a pandas object.  There are also numerous indexing options with DataFrame."
    },
    {
     "cell_type": "heading",
     "level": 3,
     "metadata": {},
     "source": "Arithmetic and Data Alignment"
    },
    {
     "cell_type": "markdown",
     "metadata": {},
     "source": "One of the most important pandas features is the behavior of arithmetic between objects with different indexes.  When adding together objects, if any index pairs are not the same, the respective index in the result will be the union of the index pairs."
    },
    {
     "cell_type": "code",
     "collapsed": false,
     "input": "s1 = Series([7.1, -2.5, 3.4, 1.5], index=['a', 'c', 'd', 'e'])",
     "language": "python",
     "metadata": {},
     "outputs": [],
     "prompt_number": 176
    },
    {
     "cell_type": "code",
     "collapsed": false,
     "input": "s2 = Series([-2.1, 3.5, -1.5, 4, 3.4], index=['a', 'c', 'e', 'f', 'g'])",
     "language": "python",
     "metadata": {},
     "outputs": [],
     "prompt_number": 177
    },
    {
     "cell_type": "code",
     "collapsed": false,
     "input": "s1",
     "language": "python",
     "metadata": {},
     "outputs": [
      {
       "metadata": {},
       "output_type": "pyout",
       "prompt_number": 178,
       "text": "a    7.1\nc   -2.5\nd    3.4\ne    1.5\ndtype: float64"
      }
     ],
     "prompt_number": 178
    },
    {
     "cell_type": "code",
     "collapsed": false,
     "input": "s2",
     "language": "python",
     "metadata": {},
     "outputs": [
      {
       "metadata": {},
       "output_type": "pyout",
       "prompt_number": 179,
       "text": "a   -2.1\nc    3.5\ne   -1.5\nf    4.0\ng    3.4\ndtype: float64"
      }
     ],
     "prompt_number": 179
    },
    {
     "cell_type": "markdown",
     "metadata": {},
     "source": "when you add the two together, notice that the internal data alignment introduces NA values in the indices that don't overlap.  Missing values propagate in arithmetic computations."
    },
    {
     "cell_type": "code",
     "collapsed": false,
     "input": "s1 + s2",
     "language": "python",
     "metadata": {},
     "outputs": [
      {
       "metadata": {},
       "output_type": "pyout",
       "prompt_number": 180,
       "text": "a     5\nc     1\nd   NaN\ne     0\nf   NaN\ng   NaN\ndtype: float64"
      }
     ],
     "prompt_number": 180
    },
    {
     "cell_type": "markdown",
     "metadata": {},
     "source": "In the case of DataFrame, alignment is performed on both the rows and the columns."
    },
    {
     "cell_type": "code",
     "collapsed": false,
     "input": "df1 = DataFrame(np.arange(9.).reshape((3,3)), columns=list('bcd'),\n                index=['Ohio', 'Texas', 'Colorado']) ",
     "language": "python",
     "metadata": {},
     "outputs": [],
     "prompt_number": 181
    },
    {
     "cell_type": "code",
     "collapsed": false,
     "input": "df2 = DataFrame(np.arange(12.).reshape((4,3)), columns=list('bde'),\n                index=['Utah', 'Ohio', 'Texas', 'Oregon'])",
     "language": "python",
     "metadata": {},
     "outputs": [],
     "prompt_number": 182
    },
    {
     "cell_type": "code",
     "collapsed": false,
     "input": "df1",
     "language": "python",
     "metadata": {},
     "outputs": [
      {
       "html": "<div style=\"max-height:1000px;max-width:1500px;overflow:auto;\">\n<table border=\"1\" class=\"dataframe\">\n  <thead>\n    <tr style=\"text-align: right;\">\n      <th></th>\n      <th>b</th>\n      <th>c</th>\n      <th>d</th>\n    </tr>\n  </thead>\n  <tbody>\n    <tr>\n      <th>Ohio</th>\n      <td> 0</td>\n      <td> 1</td>\n      <td> 2</td>\n    </tr>\n    <tr>\n      <th>Texas</th>\n      <td> 3</td>\n      <td> 4</td>\n      <td> 5</td>\n    </tr>\n    <tr>\n      <th>Colorado</th>\n      <td> 6</td>\n      <td> 7</td>\n      <td> 8</td>\n    </tr>\n  </tbody>\n</table>\n<p>3 rows \u00d7 3 columns</p>\n</div>",
       "metadata": {},
       "output_type": "pyout",
       "prompt_number": 183,
       "text": "          b  c  d\nOhio      0  1  2\nTexas     3  4  5\nColorado  6  7  8\n\n[3 rows x 3 columns]"
      }
     ],
     "prompt_number": 183
    },
    {
     "cell_type": "code",
     "collapsed": false,
     "input": "df2",
     "language": "python",
     "metadata": {},
     "outputs": [
      {
       "html": "<div style=\"max-height:1000px;max-width:1500px;overflow:auto;\">\n<table border=\"1\" class=\"dataframe\">\n  <thead>\n    <tr style=\"text-align: right;\">\n      <th></th>\n      <th>b</th>\n      <th>d</th>\n      <th>e</th>\n    </tr>\n  </thead>\n  <tbody>\n    <tr>\n      <th>Utah</th>\n      <td> 0</td>\n      <td>  1</td>\n      <td>  2</td>\n    </tr>\n    <tr>\n      <th>Ohio</th>\n      <td> 3</td>\n      <td>  4</td>\n      <td>  5</td>\n    </tr>\n    <tr>\n      <th>Texas</th>\n      <td> 6</td>\n      <td>  7</td>\n      <td>  8</td>\n    </tr>\n    <tr>\n      <th>Oregon</th>\n      <td> 9</td>\n      <td> 10</td>\n      <td> 11</td>\n    </tr>\n  </tbody>\n</table>\n<p>4 rows \u00d7 3 columns</p>\n</div>",
       "metadata": {},
       "output_type": "pyout",
       "prompt_number": 184,
       "text": "        b   d   e\nUtah    0   1   2\nOhio    3   4   5\nTexas   6   7   8\nOregon  9  10  11\n\n[4 rows x 3 columns]"
      }
     ],
     "prompt_number": 184
    },
    {
     "cell_type": "markdown",
     "metadata": {},
     "source": "Adding these together returns a DataFrame whose index and columns are the unions of the ones in each DataFrame."
    },
    {
     "cell_type": "code",
     "collapsed": false,
     "input": "df1 + df2",
     "language": "python",
     "metadata": {},
     "outputs": [
      {
       "html": "<div style=\"max-height:1000px;max-width:1500px;overflow:auto;\">\n<table border=\"1\" class=\"dataframe\">\n  <thead>\n    <tr style=\"text-align: right;\">\n      <th></th>\n      <th>b</th>\n      <th>c</th>\n      <th>d</th>\n      <th>e</th>\n    </tr>\n  </thead>\n  <tbody>\n    <tr>\n      <th>Colorado</th>\n      <td>NaN</td>\n      <td>NaN</td>\n      <td>NaN</td>\n      <td>NaN</td>\n    </tr>\n    <tr>\n      <th>Ohio</th>\n      <td>  3</td>\n      <td>NaN</td>\n      <td>  6</td>\n      <td>NaN</td>\n    </tr>\n    <tr>\n      <th>Oregon</th>\n      <td>NaN</td>\n      <td>NaN</td>\n      <td>NaN</td>\n      <td>NaN</td>\n    </tr>\n    <tr>\n      <th>Texas</th>\n      <td>  9</td>\n      <td>NaN</td>\n      <td> 12</td>\n      <td>NaN</td>\n    </tr>\n    <tr>\n      <th>Utah</th>\n      <td>NaN</td>\n      <td>NaN</td>\n      <td>NaN</td>\n      <td>NaN</td>\n    </tr>\n  </tbody>\n</table>\n<p>5 rows \u00d7 4 columns</p>\n</div>",
       "metadata": {},
       "output_type": "pyout",
       "prompt_number": 185,
       "text": "           b   c   d   e\nColorado NaN NaN NaN NaN\nOhio       3 NaN   6 NaN\nOregon   NaN NaN NaN NaN\nTexas      9 NaN  12 NaN\nUtah     NaN NaN NaN NaN\n\n[5 rows x 4 columns]"
      }
     ],
     "prompt_number": 185
    },
    {
     "cell_type": "heading",
     "level": 4,
     "metadata": {},
     "source": "Arithmetic methods with fill values"
    },
    {
     "cell_type": "markdown",
     "metadata": {},
     "source": "In arithmetic operations between differently-indexed objects, you might want to fill with a different value other than NaN when an axis label is found in one object but not the other.  By defualt, adding differently-indexed objects results in NA values in the locations that don't overlap."
    },
    {
     "cell_type": "code",
     "collapsed": false,
     "input": "",
     "language": "python",
     "metadata": {},
     "outputs": []
    }
   ],
   "metadata": {}
  }
 ]
}